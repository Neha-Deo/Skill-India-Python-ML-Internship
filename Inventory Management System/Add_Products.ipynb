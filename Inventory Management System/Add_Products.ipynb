{
  "nbformat": 4,
  "nbformat_minor": 0,
  "metadata": {
    "colab": {
      "name": "Add_Products.ipynb",
      "provenance": [],
      "collapsed_sections": []
    },
    "kernelspec": {
      "name": "python3",
      "display_name": "Python 3"
    },
    "language_info": {
      "name": "python"
    }
  },
  "cells": [
    {
      "cell_type": "markdown",
      "metadata": {
        "id": "hicqWPnLDBj7"
      },
      "source": [
        "# **Inventory Management System**"
      ]
    },
    {
      "cell_type": "markdown",
      "metadata": {
        "id": "QY5jX71EDLbB"
      },
      "source": [
        "## Importing JSON library and reading JSON file :"
      ]
    },
    {
      "cell_type": "code",
      "metadata": {
        "id": "-ggwGXKimEwm"
      },
      "source": [
        "import json\n",
        "\n",
        "fd = open(\"inventory.json\", 'r')\n",
        "r = fd.read()\n",
        "fd.close()\n",
        "\n",
        "records = json.loads(r)"
      ],
      "execution_count": 29,
      "outputs": []
    },
    {
      "cell_type": "markdown",
      "metadata": {
        "id": "Eb2Q7evvDaKB"
      },
      "source": [
        "## Printing Inventory Records"
      ]
    },
    {
      "cell_type": "code",
      "metadata": {
        "colab": {
          "base_uri": "https://localhost:8080/"
        },
        "id": "-rU9h9k8mJIz",
        "outputId": "ae82172c-ed8c-41a2-9959-fd516aa78b76"
      },
      "source": [
        "records"
      ],
      "execution_count": 30,
      "outputs": [
        {
          "output_type": "execute_result",
          "data": {
            "text/plain": [
              "{'1001': {'cat': 'Noodles', 'name': 'Maggi', 'pr': 40, 'qty': 100},\n",
              " '1002': {'cat': 'Noodles', 'name': 'Schezwan', 'pr': 40, 'qty': 100},\n",
              " '1003': {'cat': 'Noodles', 'name': 'Manchurian', 'pr': 40, 'qty': 100},\n",
              " '1004': {'cat': 'Pasta', 'name': 'Masala', 'pr': 25, 'qty': 100},\n",
              " '1005': {'cat': 'Pasta', 'name': 'Tomato', 'pr': 25, 'qty': 100},\n",
              " '1006': {'cat': 'Biscuit', 'name': 'Good Day', 'pr': 70, 'qty': 100},\n",
              " '1007': {'cat': 'Biscuit', 'name': 'Hide & Seek', 'pr': 65, 'qty': 100},\n",
              " '1008': {'cat': 'Biscuit', 'name': \"Mom's Magic\", 'pr': 75, 'qty': 100},\n",
              " '1009': {'cat': 'Biscuit', 'name': 'Parle 20-20', 'pr': 25, 'qty': 100},\n",
              " '1010': {'cat': 'Biscuit', 'name': 'Happy Happy', 'pr': 10, 'qty': 100},\n",
              " '1011': {'cat': 'Cereals', 'name': 'Corn Flakes', 'pr': 200, 'qty': 100},\n",
              " '1012': {'cat': 'Cereals', 'name': 'Oats', 'pr': 150, 'qty': 100},\n",
              " '1013': {'cat': 'Cereals', 'name': 'Chocos', 'pr': 150, 'qty': 100},\n",
              " '1014': {'cat': 'Chocolate', 'name': 'CHocomini', 'pr': 100, 'qty': 100},\n",
              " '1015': {'cat': 'Chocolate', 'name': 'Dairy Milk', 'pr': 20, 'qty': 100},\n",
              " '1016': {'cat': 'Chocolate', 'name': 'KitKat', 'pr': 20, 'qty': 100},\n",
              " '1017': {'cat': 'Chocolate', 'name': 'Dark Choco', 'pr': 90, 'qty': 100},\n",
              " '1018': {'cat': 'Chocolate', 'name': '5 Star', 'pr': 10, 'qty': 100},\n",
              " '1019': {'cat': 'Cake', 'name': 'Fruit Cake', 'pr': 25, 'qty': 100},\n",
              " '1020': {'cat': 'Cake', 'name': 'Chocobakes', 'pr': 10, 'qty': 100},\n",
              " '1021': {'cat': 'Cake', 'name': 'Vanilla', 'pr': 20, 'qty': 100},\n",
              " '1022': {'cat': 'Bakery', 'name': 'Toast', 'pr': 50, 'qty': 100},\n",
              " '1023': {'cat': 'Bakery', 'name': 'Khari', 'pr': 40, 'qty': 100},\n",
              " '1024': {'cat': 'Snacks', 'name': 'Soya Stiks', 'pr': 30, 'qty': 100},\n",
              " '1025': {'cat': 'Snacks', 'name': 'Wafers', 'pr': 10, 'qty': 100},\n",
              " '1026': {'cat': 'Jam', 'name': 'Fruit Jam', 'pr': 50, 'qty': 100},\n",
              " '1027': {'cat': 'Sauce', 'name': 'Tomato', 'pr': 90, 'qty': 100},\n",
              " '1028': {'cat': 'Snaks', 'name': 'Popcorn', 'pr': 10, 'qty': 100},\n",
              " '1029': {'cat': 'Soup', 'name': 'Hot & Sour', 'pr': 30, 'qty': 100},\n",
              " '1030': {'cat': 'Soup', 'name': 'Tomato', 'pr': 30, 'qty': 100}}"
            ]
          },
          "metadata": {},
          "execution_count": 30
        }
      ]
    },
    {
      "cell_type": "markdown",
      "metadata": {
        "id": "Ci-Bc34FDjEu"
      },
      "source": [
        "## Add New Product to Inventory"
      ]
    },
    {
      "cell_type": "code",
      "metadata": {
        "colab": {
          "base_uri": "https://localhost:8080/"
        },
        "id": "KBjbTXfOmNVD",
        "outputId": "1579fa08-150a-4160-a433-754a9000c157"
      },
      "source": [
        "id = str(input(\"\\n Enter Product_ID : \"))\n",
        "cat = str(input(\"\\n Enter Category : \"))\n",
        "name = str(input(\"\\n Enter Name : \"))\n",
        "pr = int(input(\"\\n Enter Price : \"))\n",
        "qty = int(input(\"\\n Enter Quantity : \"))\n",
        "\n",
        "records[id] = {'cat': cat, 'name': name, 'pr': pr, 'qty': qty}\n",
        "\n",
        "js = json.dumps(records)\n",
        "fd = open(\"inventory.json\",'w')\n",
        "fd.write(js)\n",
        "fd.close()"
      ],
      "execution_count": 31,
      "outputs": [
        {
          "name": "stdout",
          "output_type": "stream",
          "text": [
            "\n",
            " Enter Product_ID : 1031\n",
            "\n",
            " Enter Category : Oil\n",
            "\n",
            " Enter Name : Aamla\n",
            "\n",
            " Enter Price : 50\n",
            "\n",
            " Enter Quantity : 100\n"
          ]
        }
      ]
    },
    {
      "cell_type": "markdown",
      "metadata": {
        "id": "20DheSauEHJF"
      },
      "source": [
        "## Printing Updated Records"
      ]
    },
    {
      "cell_type": "code",
      "metadata": {
        "colab": {
          "base_uri": "https://localhost:8080/"
        },
        "id": "uVYI6tYK-N9Y",
        "outputId": "e91147b0-fcb1-4ec6-a39f-62c5f3a945d8"
      },
      "source": [
        "records"
      ],
      "execution_count": 33,
      "outputs": [
        {
          "output_type": "execute_result",
          "data": {
            "text/plain": [
              "{'1001': {'cat': 'Noodles', 'name': 'Maggi', 'pr': 40, 'qty': 100},\n",
              " '1002': {'cat': 'Noodles', 'name': 'Schezwan', 'pr': 40, 'qty': 100},\n",
              " '1003': {'cat': 'Noodles', 'name': 'Manchurian', 'pr': 40, 'qty': 100},\n",
              " '1004': {'cat': 'Pasta', 'name': 'Masala', 'pr': 25, 'qty': 100},\n",
              " '1005': {'cat': 'Pasta', 'name': 'Tomato', 'pr': 25, 'qty': 100},\n",
              " '1006': {'cat': 'Biscuit', 'name': 'Good Day', 'pr': 70, 'qty': 100},\n",
              " '1007': {'cat': 'Biscuit', 'name': 'Hide & Seek', 'pr': 65, 'qty': 100},\n",
              " '1008': {'cat': 'Biscuit', 'name': \"Mom's Magic\", 'pr': 75, 'qty': 100},\n",
              " '1009': {'cat': 'Biscuit', 'name': 'Parle 20-20', 'pr': 25, 'qty': 100},\n",
              " '1010': {'cat': 'Biscuit', 'name': 'Happy Happy', 'pr': 10, 'qty': 100},\n",
              " '1011': {'cat': 'Cereals', 'name': 'Corn Flakes', 'pr': 200, 'qty': 100},\n",
              " '1012': {'cat': 'Cereals', 'name': 'Oats', 'pr': 150, 'qty': 100},\n",
              " '1013': {'cat': 'Cereals', 'name': 'Chocos', 'pr': 150, 'qty': 100},\n",
              " '1014': {'cat': 'Chocolate', 'name': 'CHocomini', 'pr': 100, 'qty': 100},\n",
              " '1015': {'cat': 'Chocolate', 'name': 'Dairy Milk', 'pr': 20, 'qty': 100},\n",
              " '1016': {'cat': 'Chocolate', 'name': 'KitKat', 'pr': 20, 'qty': 100},\n",
              " '1017': {'cat': 'Chocolate', 'name': 'Dark Choco', 'pr': 90, 'qty': 100},\n",
              " '1018': {'cat': 'Chocolate', 'name': '5 Star', 'pr': 10, 'qty': 100},\n",
              " '1019': {'cat': 'Cake', 'name': 'Fruit Cake', 'pr': 25, 'qty': 100},\n",
              " '1020': {'cat': 'Cake', 'name': 'Chocobakes', 'pr': 10, 'qty': 100},\n",
              " '1021': {'cat': 'Cake', 'name': 'Vanilla', 'pr': 20, 'qty': 100},\n",
              " '1022': {'cat': 'Bakery', 'name': 'Toast', 'pr': 50, 'qty': 100},\n",
              " '1023': {'cat': 'Bakery', 'name': 'Khari', 'pr': 40, 'qty': 100},\n",
              " '1024': {'cat': 'Snacks', 'name': 'Soya Stiks', 'pr': 30, 'qty': 100},\n",
              " '1025': {'cat': 'Snacks', 'name': 'Wafers', 'pr': 10, 'qty': 100},\n",
              " '1026': {'cat': 'Jam', 'name': 'Fruit Jam', 'pr': 50, 'qty': 100},\n",
              " '1027': {'cat': 'Sauce', 'name': 'Tomato', 'pr': 90, 'qty': 100},\n",
              " '1028': {'cat': 'Snaks', 'name': 'Popcorn', 'pr': 10, 'qty': 100},\n",
              " '1029': {'cat': 'Soup', 'name': 'Hot & Sour', 'pr': 30, 'qty': 100},\n",
              " '1030': {'cat': 'Soup', 'name': 'Tomato', 'pr': 30, 'qty': 100},\n",
              " '1031': {'cat': 'Oil', 'name': 'Aamla', 'pr': 50, 'qty': 100}}"
            ]
          },
          "metadata": {},
          "execution_count": 33
        }
      ]
    },
    {
      "cell_type": "markdown",
      "metadata": {
        "id": "du7orlIHGE3z"
      },
      "source": [
        "## Delete Record from Inventory"
      ]
    },
    {
      "cell_type": "code",
      "metadata": {
        "id": "SpdDjLpVn0lP"
      },
      "source": [
        "del records['1031']"
      ],
      "execution_count": 34,
      "outputs": []
    },
    {
      "cell_type": "markdown",
      "metadata": {
        "id": "A8gETO1EGIox"
      },
      "source": [
        "## Update records in File"
      ]
    },
    {
      "cell_type": "code",
      "metadata": {
        "id": "KGePzYSOCP32"
      },
      "source": [
        "js = json.dumps(records)\n",
        "fd = open(\"inventory.json\",'w')\n",
        "fd.write(js)\n",
        "fd.close()"
      ],
      "execution_count": 35,
      "outputs": []
    },
    {
      "cell_type": "markdown",
      "metadata": {
        "id": "DgBGIKcuGuLG"
      },
      "source": [
        "## Printing Updated records"
      ]
    },
    {
      "cell_type": "code",
      "metadata": {
        "colab": {
          "base_uri": "https://localhost:8080/"
        },
        "id": "_uggb6xs0iDp",
        "outputId": "59958538-dd8d-46ed-aa9d-e480c2ee79b6"
      },
      "source": [
        "records"
      ],
      "execution_count": 36,
      "outputs": [
        {
          "output_type": "execute_result",
          "data": {
            "text/plain": [
              "{'1001': {'cat': 'Noodles', 'name': 'Maggi', 'pr': 40, 'qty': 100},\n",
              " '1002': {'cat': 'Noodles', 'name': 'Schezwan', 'pr': 40, 'qty': 100},\n",
              " '1003': {'cat': 'Noodles', 'name': 'Manchurian', 'pr': 40, 'qty': 100},\n",
              " '1004': {'cat': 'Pasta', 'name': 'Masala', 'pr': 25, 'qty': 100},\n",
              " '1005': {'cat': 'Pasta', 'name': 'Tomato', 'pr': 25, 'qty': 100},\n",
              " '1006': {'cat': 'Biscuit', 'name': 'Good Day', 'pr': 70, 'qty': 100},\n",
              " '1007': {'cat': 'Biscuit', 'name': 'Hide & Seek', 'pr': 65, 'qty': 100},\n",
              " '1008': {'cat': 'Biscuit', 'name': \"Mom's Magic\", 'pr': 75, 'qty': 100},\n",
              " '1009': {'cat': 'Biscuit', 'name': 'Parle 20-20', 'pr': 25, 'qty': 100},\n",
              " '1010': {'cat': 'Biscuit', 'name': 'Happy Happy', 'pr': 10, 'qty': 100},\n",
              " '1011': {'cat': 'Cereals', 'name': 'Corn Flakes', 'pr': 200, 'qty': 100},\n",
              " '1012': {'cat': 'Cereals', 'name': 'Oats', 'pr': 150, 'qty': 100},\n",
              " '1013': {'cat': 'Cereals', 'name': 'Chocos', 'pr': 150, 'qty': 100},\n",
              " '1014': {'cat': 'Chocolate', 'name': 'CHocomini', 'pr': 100, 'qty': 100},\n",
              " '1015': {'cat': 'Chocolate', 'name': 'Dairy Milk', 'pr': 20, 'qty': 100},\n",
              " '1016': {'cat': 'Chocolate', 'name': 'KitKat', 'pr': 20, 'qty': 100},\n",
              " '1017': {'cat': 'Chocolate', 'name': 'Dark Choco', 'pr': 90, 'qty': 100},\n",
              " '1018': {'cat': 'Chocolate', 'name': '5 Star', 'pr': 10, 'qty': 100},\n",
              " '1019': {'cat': 'Cake', 'name': 'Fruit Cake', 'pr': 25, 'qty': 100},\n",
              " '1020': {'cat': 'Cake', 'name': 'Chocobakes', 'pr': 10, 'qty': 100},\n",
              " '1021': {'cat': 'Cake', 'name': 'Vanilla', 'pr': 20, 'qty': 100},\n",
              " '1022': {'cat': 'Bakery', 'name': 'Toast', 'pr': 50, 'qty': 100},\n",
              " '1023': {'cat': 'Bakery', 'name': 'Khari', 'pr': 40, 'qty': 100},\n",
              " '1024': {'cat': 'Snacks', 'name': 'Soya Stiks', 'pr': 30, 'qty': 100},\n",
              " '1025': {'cat': 'Snacks', 'name': 'Wafers', 'pr': 10, 'qty': 100},\n",
              " '1026': {'cat': 'Jam', 'name': 'Fruit Jam', 'pr': 50, 'qty': 100},\n",
              " '1027': {'cat': 'Sauce', 'name': 'Tomato', 'pr': 90, 'qty': 100},\n",
              " '1028': {'cat': 'Snaks', 'name': 'Popcorn', 'pr': 10, 'qty': 100},\n",
              " '1029': {'cat': 'Soup', 'name': 'Hot & Sour', 'pr': 30, 'qty': 100},\n",
              " '1030': {'cat': 'Soup', 'name': 'Tomato', 'pr': 30, 'qty': 100}}"
            ]
          },
          "metadata": {},
          "execution_count": 36
        }
      ]
    },
    {
      "cell_type": "markdown",
      "metadata": {
        "id": "r_iQRV13G3M9"
      },
      "source": [
        "## Update Quantity of inventory when new stock arrives"
      ]
    },
    {
      "cell_type": "code",
      "metadata": {
        "colab": {
          "base_uri": "https://localhost:8080/"
        },
        "id": "uLy58K796gIB",
        "outputId": "8ea09f0d-5c60-478c-fa13-d1932f044131"
      },
      "source": [
        "id = str(input(\"enter id : \"))\n",
        "new_qty = int(input(\"enter Qty : \"))\n",
        "records[id]['qty'] = records[id]['qty'] + new_qty"
      ],
      "execution_count": 37,
      "outputs": [
        {
          "name": "stdout",
          "output_type": "stream",
          "text": [
            "enter id : 1001\n",
            "enter Qty : 5\n"
          ]
        }
      ]
    },
    {
      "cell_type": "markdown",
      "metadata": {
        "id": "kLqAwZoAHDwZ"
      },
      "source": [
        "## Update record in existing file"
      ]
    },
    {
      "cell_type": "code",
      "metadata": {
        "id": "PtwmpizKCbX3"
      },
      "source": [
        "js = json.dumps(records)\n",
        "fd = open(\"inventory.json\",'w')\n",
        "fd.write(js)\n",
        "fd.close()"
      ],
      "execution_count": 38,
      "outputs": []
    },
    {
      "cell_type": "markdown",
      "metadata": {
        "id": "zn_fkqgaHMDf"
      },
      "source": [
        "## Print New Updated Records"
      ]
    },
    {
      "cell_type": "code",
      "metadata": {
        "colab": {
          "base_uri": "https://localhost:8080/"
        },
        "id": "N2Koz-eu8Y5c",
        "outputId": "37141acb-ca79-4f2e-c87b-37e4bad45901"
      },
      "source": [
        "records"
      ],
      "execution_count": 39,
      "outputs": [
        {
          "output_type": "execute_result",
          "data": {
            "text/plain": [
              "{'1001': {'cat': 'Noodles', 'name': 'Maggi', 'pr': 40, 'qty': 105},\n",
              " '1002': {'cat': 'Noodles', 'name': 'Schezwan', 'pr': 40, 'qty': 100},\n",
              " '1003': {'cat': 'Noodles', 'name': 'Manchurian', 'pr': 40, 'qty': 100},\n",
              " '1004': {'cat': 'Pasta', 'name': 'Masala', 'pr': 25, 'qty': 100},\n",
              " '1005': {'cat': 'Pasta', 'name': 'Tomato', 'pr': 25, 'qty': 100},\n",
              " '1006': {'cat': 'Biscuit', 'name': 'Good Day', 'pr': 70, 'qty': 100},\n",
              " '1007': {'cat': 'Biscuit', 'name': 'Hide & Seek', 'pr': 65, 'qty': 100},\n",
              " '1008': {'cat': 'Biscuit', 'name': \"Mom's Magic\", 'pr': 75, 'qty': 100},\n",
              " '1009': {'cat': 'Biscuit', 'name': 'Parle 20-20', 'pr': 25, 'qty': 100},\n",
              " '1010': {'cat': 'Biscuit', 'name': 'Happy Happy', 'pr': 10, 'qty': 100},\n",
              " '1011': {'cat': 'Cereals', 'name': 'Corn Flakes', 'pr': 200, 'qty': 100},\n",
              " '1012': {'cat': 'Cereals', 'name': 'Oats', 'pr': 150, 'qty': 100},\n",
              " '1013': {'cat': 'Cereals', 'name': 'Chocos', 'pr': 150, 'qty': 100},\n",
              " '1014': {'cat': 'Chocolate', 'name': 'CHocomini', 'pr': 100, 'qty': 100},\n",
              " '1015': {'cat': 'Chocolate', 'name': 'Dairy Milk', 'pr': 20, 'qty': 100},\n",
              " '1016': {'cat': 'Chocolate', 'name': 'KitKat', 'pr': 20, 'qty': 100},\n",
              " '1017': {'cat': 'Chocolate', 'name': 'Dark Choco', 'pr': 90, 'qty': 100},\n",
              " '1018': {'cat': 'Chocolate', 'name': '5 Star', 'pr': 10, 'qty': 100},\n",
              " '1019': {'cat': 'Cake', 'name': 'Fruit Cake', 'pr': 25, 'qty': 100},\n",
              " '1020': {'cat': 'Cake', 'name': 'Chocobakes', 'pr': 10, 'qty': 100},\n",
              " '1021': {'cat': 'Cake', 'name': 'Vanilla', 'pr': 20, 'qty': 100},\n",
              " '1022': {'cat': 'Bakery', 'name': 'Toast', 'pr': 50, 'qty': 100},\n",
              " '1023': {'cat': 'Bakery', 'name': 'Khari', 'pr': 40, 'qty': 100},\n",
              " '1024': {'cat': 'Snacks', 'name': 'Soya Stiks', 'pr': 30, 'qty': 100},\n",
              " '1025': {'cat': 'Snacks', 'name': 'Wafers', 'pr': 10, 'qty': 100},\n",
              " '1026': {'cat': 'Jam', 'name': 'Fruit Jam', 'pr': 50, 'qty': 100},\n",
              " '1027': {'cat': 'Sauce', 'name': 'Tomato', 'pr': 90, 'qty': 100},\n",
              " '1028': {'cat': 'Snaks', 'name': 'Popcorn', 'pr': 10, 'qty': 100},\n",
              " '1029': {'cat': 'Soup', 'name': 'Hot & Sour', 'pr': 30, 'qty': 100},\n",
              " '1030': {'cat': 'Soup', 'name': 'Tomato', 'pr': 30, 'qty': 100}}"
            ]
          },
          "metadata": {},
          "execution_count": 39
        }
      ]
    },
    {
      "cell_type": "code",
      "metadata": {
        "id": "UcsjhO5k-JES"
      },
      "source": [
        ""
      ],
      "execution_count": null,
      "outputs": []
    }
  ]
}