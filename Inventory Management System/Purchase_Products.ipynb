{
  "nbformat": 4,
  "nbformat_minor": 0,
  "metadata": {
    "colab": {
      "name": "Purchase_Products.ipynb",
      "provenance": []
    },
    "kernelspec": {
      "name": "python3",
      "display_name": "Python 3"
    },
    "language_info": {
      "name": "python"
    }
  },
  "cells": [
    {
      "cell_type": "markdown",
      "metadata": {
        "id": "fYcBPUjUece4"
      },
      "source": [
        "## Reading inventory.json file\n"
      ]
    },
    {
      "cell_type": "code",
      "metadata": {
        "id": "U3PCEoZRYr0O"
      },
      "source": [
        "import json\n",
        "\n",
        "fd = open(\"inventory.json\",'r')\n",
        "r = fd.read()\n",
        "fd.close()\n",
        "\n",
        "records = json.loads(r)"
      ],
      "execution_count": 30,
      "outputs": []
    },
    {
      "cell_type": "markdown",
      "metadata": {
        "id": "GhFYX6bKejtv"
      },
      "source": [
        "## Printing records"
      ]
    },
    {
      "cell_type": "code",
      "metadata": {
        "colab": {
          "base_uri": "https://localhost:8080/"
        },
        "id": "xhrxvfz0YyuV",
        "outputId": "e6aec2af-0869-48f0-ca2d-428e8446b080"
      },
      "source": [
        "records"
      ],
      "execution_count": 31,
      "outputs": [
        {
          "output_type": "execute_result",
          "data": {
            "text/plain": [
              "{'1001': {'cat': 'Noodles', 'name': 'Maggi', 'pr': 40, 'qty': 102},\n",
              " '1002': {'cat': 'Noodles', 'name': 'Schezwan', 'pr': 40, 'qty': 100},\n",
              " '1003': {'cat': 'Noodles', 'name': 'Manchurian', 'pr': 40, 'qty': 100},\n",
              " '1004': {'cat': 'Pasta', 'name': 'Masala', 'pr': 25, 'qty': 100},\n",
              " '1005': {'cat': 'Pasta', 'name': 'Tomato', 'pr': 25, 'qty': 100},\n",
              " '1006': {'cat': 'Biscuit', 'name': 'Good Day', 'pr': 70, 'qty': 100},\n",
              " '1007': {'cat': 'Biscuit', 'name': 'Hide & Seek', 'pr': 65, 'qty': 100},\n",
              " '1008': {'cat': 'Biscuit', 'name': \"Mom's Magic\", 'pr': 75, 'qty': 100},\n",
              " '1009': {'cat': 'Biscuit', 'name': 'Parle 20-20', 'pr': 25, 'qty': 100},\n",
              " '1010': {'cat': 'Biscuit', 'name': 'Happy Happy', 'pr': 10, 'qty': 100},\n",
              " '1011': {'cat': 'Cereals', 'name': 'Corn Flakes', 'pr': 200, 'qty': 100},\n",
              " '1012': {'cat': 'Cereals', 'name': 'Oats', 'pr': 150, 'qty': 100},\n",
              " '1013': {'cat': 'Cereals', 'name': 'Chocos', 'pr': 150, 'qty': 100},\n",
              " '1014': {'cat': 'Chocolate', 'name': 'CHocomini', 'pr': 100, 'qty': 100},\n",
              " '1015': {'cat': 'Chocolate', 'name': 'Dairy Milk', 'pr': 20, 'qty': 100},\n",
              " '1016': {'cat': 'Chocolate', 'name': 'KitKat', 'pr': 20, 'qty': 100},\n",
              " '1017': {'cat': 'Chocolate', 'name': 'Dark Choco', 'pr': 90, 'qty': 100},\n",
              " '1018': {'cat': 'Chocolate', 'name': '5 Star', 'pr': 10, 'qty': 100},\n",
              " '1019': {'cat': 'Cake', 'name': 'Fruit Cake', 'pr': 25, 'qty': 100},\n",
              " '1020': {'cat': 'Cake', 'name': 'Chocobakes', 'pr': 10, 'qty': 100},\n",
              " '1021': {'cat': 'Cake', 'name': 'Vanilla', 'pr': 20, 'qty': 100},\n",
              " '1022': {'cat': 'Bakery', 'name': 'Toast', 'pr': 50, 'qty': 100},\n",
              " '1023': {'cat': 'Bakery', 'name': 'Khari', 'pr': 40, 'qty': 100},\n",
              " '1024': {'cat': 'Snacks', 'name': 'Soya Stiks', 'pr': 30, 'qty': 100},\n",
              " '1025': {'cat': 'Snacks', 'name': 'Wafers', 'pr': 10, 'qty': 100},\n",
              " '1026': {'cat': 'Jam', 'name': 'Fruit Jam', 'pr': 50, 'qty': 100},\n",
              " '1027': {'cat': 'Sauce', 'name': 'Tomato', 'pr': 90, 'qty': 100},\n",
              " '1028': {'cat': 'Snaks', 'name': 'Popcorn', 'pr': 10, 'qty': 100},\n",
              " '1029': {'cat': 'Soup', 'name': 'Hot & Sour', 'pr': 30, 'qty': 100},\n",
              " '1030': {'cat': 'Soup', 'name': 'Tomato', 'pr': 30, 'qty': 100}}"
            ]
          },
          "metadata": {},
          "execution_count": 31
        }
      ]
    },
    {
      "cell_type": "markdown",
      "metadata": {
        "id": "RriUh0f8enjG"
      },
      "source": [
        "## Purchase Product"
      ]
    },
    {
      "cell_type": "code",
      "metadata": {
        "colab": {
          "base_uri": "https://localhost:8080/"
        },
        "id": "6FFK9ZyTY0q2",
        "outputId": "6a346027-2158-4a4e-ea25-fb66a1d44bf3"
      },
      "source": [
        "print(\"**************************************************\")\n",
        "print(\"!!! Welcome to the Store !!!\")\n",
        "print(\"**************************************************\")\n",
        "\n",
        "prod_id = str(input(\"\\n Enter the Product_ID : \"))\n",
        "purchase_qty = int(input(\"\\n Enter the Quantity : \"))\n",
        "\n",
        "print(\"\\n Category : \", records[prod_id]['cat'])\n",
        "print(\"\\n Product : \", records[prod_id]['name'])\n",
        "print(\"\\n Price : \", records[prod_id]['pr'])\n",
        "\n",
        "print(\"--------------------------------------------------\")\n",
        "print(\"\\n Billing Amount : \", records[prod_id]['pr'] * purchase_qty)\n",
        "print(\"--------------------------------------------------\")\n",
        "\n",
        "records[prod_id]['qty'] = records[prod_id]['qty'] - purchase_qty"
      ],
      "execution_count": 32,
      "outputs": [
        {
          "output_type": "stream",
          "name": "stdout",
          "text": [
            "**************************************************\n",
            "!!! Welcome to the Store !!!\n",
            "**************************************************\n",
            "\n",
            " Enter the Product_ID : 1001\n",
            "\n",
            " Enter the Quantity : 2\n",
            "\n",
            " Category :  Noodles\n",
            "\n",
            " Product :  Maggi\n",
            "\n",
            " Price :  40\n",
            "--------------------------------------------------\n",
            "\n",
            " Billing Amount :  80\n",
            "--------------------------------------------------\n"
          ]
        }
      ]
    },
    {
      "cell_type": "markdown",
      "metadata": {
        "id": "q7TOriduerZ7"
      },
      "source": [
        "## Update record in existing File and printing it"
      ]
    },
    {
      "cell_type": "code",
      "metadata": {
        "id": "c3HieUKSZBqP"
      },
      "source": [
        "js = json.dumps(records)\n",
        "\n",
        "fd = open(\"inventory.json\", 'w')\n",
        "fd.write(js)\n",
        "fd.close()"
      ],
      "execution_count": 33,
      "outputs": []
    },
    {
      "cell_type": "code",
      "metadata": {
        "colab": {
          "base_uri": "https://localhost:8080/"
        },
        "id": "u7M7GsThZJQj",
        "outputId": "726537c4-d586-41c0-dbe7-709c136f77c7"
      },
      "source": [
        "records"
      ],
      "execution_count": 34,
      "outputs": [
        {
          "output_type": "execute_result",
          "data": {
            "text/plain": [
              "{'1001': {'cat': 'Noodles', 'name': 'Maggi', 'pr': 40, 'qty': 100},\n",
              " '1002': {'cat': 'Noodles', 'name': 'Schezwan', 'pr': 40, 'qty': 100},\n",
              " '1003': {'cat': 'Noodles', 'name': 'Manchurian', 'pr': 40, 'qty': 100},\n",
              " '1004': {'cat': 'Pasta', 'name': 'Masala', 'pr': 25, 'qty': 100},\n",
              " '1005': {'cat': 'Pasta', 'name': 'Tomato', 'pr': 25, 'qty': 100},\n",
              " '1006': {'cat': 'Biscuit', 'name': 'Good Day', 'pr': 70, 'qty': 100},\n",
              " '1007': {'cat': 'Biscuit', 'name': 'Hide & Seek', 'pr': 65, 'qty': 100},\n",
              " '1008': {'cat': 'Biscuit', 'name': \"Mom's Magic\", 'pr': 75, 'qty': 100},\n",
              " '1009': {'cat': 'Biscuit', 'name': 'Parle 20-20', 'pr': 25, 'qty': 100},\n",
              " '1010': {'cat': 'Biscuit', 'name': 'Happy Happy', 'pr': 10, 'qty': 100},\n",
              " '1011': {'cat': 'Cereals', 'name': 'Corn Flakes', 'pr': 200, 'qty': 100},\n",
              " '1012': {'cat': 'Cereals', 'name': 'Oats', 'pr': 150, 'qty': 100},\n",
              " '1013': {'cat': 'Cereals', 'name': 'Chocos', 'pr': 150, 'qty': 100},\n",
              " '1014': {'cat': 'Chocolate', 'name': 'CHocomini', 'pr': 100, 'qty': 100},\n",
              " '1015': {'cat': 'Chocolate', 'name': 'Dairy Milk', 'pr': 20, 'qty': 100},\n",
              " '1016': {'cat': 'Chocolate', 'name': 'KitKat', 'pr': 20, 'qty': 100},\n",
              " '1017': {'cat': 'Chocolate', 'name': 'Dark Choco', 'pr': 90, 'qty': 100},\n",
              " '1018': {'cat': 'Chocolate', 'name': '5 Star', 'pr': 10, 'qty': 100},\n",
              " '1019': {'cat': 'Cake', 'name': 'Fruit Cake', 'pr': 25, 'qty': 100},\n",
              " '1020': {'cat': 'Cake', 'name': 'Chocobakes', 'pr': 10, 'qty': 100},\n",
              " '1021': {'cat': 'Cake', 'name': 'Vanilla', 'pr': 20, 'qty': 100},\n",
              " '1022': {'cat': 'Bakery', 'name': 'Toast', 'pr': 50, 'qty': 100},\n",
              " '1023': {'cat': 'Bakery', 'name': 'Khari', 'pr': 40, 'qty': 100},\n",
              " '1024': {'cat': 'Snacks', 'name': 'Soya Stiks', 'pr': 30, 'qty': 100},\n",
              " '1025': {'cat': 'Snacks', 'name': 'Wafers', 'pr': 10, 'qty': 100},\n",
              " '1026': {'cat': 'Jam', 'name': 'Fruit Jam', 'pr': 50, 'qty': 100},\n",
              " '1027': {'cat': 'Sauce', 'name': 'Tomato', 'pr': 90, 'qty': 100},\n",
              " '1028': {'cat': 'Snaks', 'name': 'Popcorn', 'pr': 10, 'qty': 100},\n",
              " '1029': {'cat': 'Soup', 'name': 'Hot & Sour', 'pr': 30, 'qty': 100},\n",
              " '1030': {'cat': 'Soup', 'name': 'Tomato', 'pr': 30, 'qty': 100}}"
            ]
          },
          "metadata": {},
          "execution_count": 34
        }
      ]
    },
    {
      "cell_type": "code",
      "metadata": {
        "id": "ib7GxRAzcYgv"
      },
      "source": [
        "\n",
        "id += 1"
      ],
      "execution_count": 35,
      "outputs": []
    },
    {
      "cell_type": "code",
      "metadata": {
        "id": "9O1T1PXrZMNx"
      },
      "source": [
        "sales = {id : {'Product_ID' : prod_id, 'Qty' : purchase_qty, 'Amount': records[prod_id]['pr'] * purchase_qty}}"
      ],
      "execution_count": 36,
      "outputs": []
    },
    {
      "cell_type": "code",
      "metadata": {
        "colab": {
          "base_uri": "https://localhost:8080/"
        },
        "id": "qiK9b6ukcgml",
        "outputId": "12090200-d17e-4fe3-f5f8-4b1c3c16fd73"
      },
      "source": [
        "sales"
      ],
      "execution_count": 37,
      "outputs": [
        {
          "output_type": "execute_result",
          "data": {
            "text/plain": [
              "{3: {'Amount': 80, 'Product_ID': '1001', 'Qty': 2}}"
            ]
          },
          "metadata": {},
          "execution_count": 37
        }
      ]
    },
    {
      "cell_type": "markdown",
      "metadata": {
        "id": "Cq3wnFnfe55q"
      },
      "source": [
        "## Appending sales data into sales.json file"
      ]
    },
    {
      "cell_type": "code",
      "metadata": {
        "id": "3KahDil9cm1E"
      },
      "source": [
        "sale = json.dumps(sales)\n",
        "\n",
        "fd = open(\"sales.json\", 'a')\n",
        "fd.write(str(sale))\n",
        "fd.close()"
      ],
      "execution_count": 38,
      "outputs": []
    },
    {
      "cell_type": "markdown",
      "metadata": {
        "id": "IubDW6DUe--P"
      },
      "source": [
        "## Reading sales.json file"
      ]
    },
    {
      "cell_type": "code",
      "metadata": {
        "id": "ScU6s8NPc7KT"
      },
      "source": [
        "import json\n",
        "fd = open(\"sales.json\", 'r')\n",
        "r = fd.read()\n",
        "fd.close()\n",
        "\n",
        "sale_record = json.dumps(str(r))"
      ],
      "execution_count": 39,
      "outputs": []
    },
    {
      "cell_type": "markdown",
      "metadata": {
        "id": "z1L0Sp5EfFcB"
      },
      "source": [
        "## Printing sales records"
      ]
    },
    {
      "cell_type": "code",
      "metadata": {
        "colab": {
          "base_uri": "https://localhost:8080/",
          "height": 35
        },
        "id": "FCzZHFXUdLal",
        "outputId": "0d8ddccb-6064-4349-e291-5941302f1971"
      },
      "source": [
        "sale_record = sale_record.replace('\\\\', '')\n",
        "sale_record"
      ],
      "execution_count": 40,
      "outputs": [
        {
          "output_type": "execute_result",
          "data": {
            "application/vnd.google.colaboratory.intrinsic+json": {
              "type": "string"
            },
            "text/plain": [
              "'\"{\"3\": {\"Product_ID\": \"1001\", \"Qty\": 2, \"Amount\": 80}}\"'"
            ]
          },
          "metadata": {},
          "execution_count": 40
        }
      ]
    },
    {
      "cell_type": "code",
      "metadata": {
        "id": "B6JTsH0zdTf9"
      },
      "source": [
        ""
      ],
      "execution_count": 13,
      "outputs": []
    }
  ]
}